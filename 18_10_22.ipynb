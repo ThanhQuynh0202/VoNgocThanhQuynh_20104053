{
  "nbformat": 4,
  "nbformat_minor": 0,
  "metadata": {
    "colab": {
      "provenance": [],
      "authorship_tag": "ABX9TyMF2nugiKgm9J6vx8bhwptD",
      "include_colab_link": true
    },
    "kernelspec": {
      "name": "python3",
      "display_name": "Python 3"
    },
    "language_info": {
      "name": "python"
    }
  },
  "cells": [
    {
      "cell_type": "markdown",
      "metadata": {
        "id": "view-in-github",
        "colab_type": "text"
      },
      "source": [
        "<a href=\"https://colab.research.google.com/github/ThanhQuynh0202/VoNgocThanhQuynh_20104053/blob/main/18_10_22.ipynb\" target=\"_parent\"><img src=\"https://colab.research.google.com/assets/colab-badge.svg\" alt=\"Open In Colab\"/></a>"
      ]
    },
    {
      "cell_type": "code",
      "execution_count": 7,
      "metadata": {
        "colab": {
          "base_uri": "https://localhost:8080/"
        },
        "id": "jBp9_yrh13N7",
        "outputId": "cd63441e-abc0-41d8-fbb4-4616b10d1ff0"
      },
      "outputs": [
        {
          "output_type": "stream",
          "name": "stdout",
          "text": [
            "Downloading data from https://storage.googleapis.com/tensorflow/tf-keras-datasets/mnist.npz\n",
            "11490434/11490434 [==============================] - 0s 0us/step\n"
          ]
        },
        {
          "output_type": "execute_result",
          "data": {
            "text/plain": [
              "(10000,)"
            ]
          },
          "metadata": {},
          "execution_count": 7
        }
      ],
      "source": [
        "from keras.datasets import mnist\n",
        "(train_images, train_labels),(test_images, test_labels)= mnist.load_data()\n",
        "train_images.shape\n",
        "train_labels.shape\n",
        "test_images.shape\n",
        "test_labels.shape"
      ]
    },
    {
      "cell_type": "code",
      "source": [
        "import matplotlib.pyplot as plt\n",
        "plt.imshow(train_images[10])\n",
        "plt.show()\n",
        "print(train_labels[10])"
      ],
      "metadata": {
        "colab": {
          "base_uri": "https://localhost:8080/",
          "height": 282
        },
        "id": "Dx6h-4nN38Fh",
        "outputId": "85e8ac10-9c88-4451-8b43-10e39119def0"
      },
      "execution_count": 8,
      "outputs": [
        {
          "output_type": "display_data",
          "data": {
            "text/plain": [
              "<Figure size 432x288 with 1 Axes>"
            ],
            "image/png": "[encoded data removed]"
          },
          "metadata": {
            "needs_background": "light"
          }
        },
        {
          "output_type": "stream",
          "name": "stdout",
          "text": [
            "3\n"
          ]
        }
      ]
    },
    {
      "cell_type": "code",
      "source": [
        "from keras import models\n",
        "from keras import layers\n",
        "model = models.Sequential()\n",
        "model.add(layers.Dense(512, activation = 'relu',input_shape = (28*28,)))\n",
        "model.add(layers.Dense(10, activation='softmax'))\n",
        "model.summary()"
      ],
      "metadata": {
        "colab": {
          "base_uri": "https://localhost:8080/"
        },
        "id": "YVGLDB-l5RVy",
        "outputId": "2ed73618-9980-48f7-91d6-ec2ca645c592"
      },
      "execution_count": 9,
      "outputs": [
        {
          "output_type": "stream",
          "name": "stdout",
          "text": [
            "Model: \"sequential\"\n",
            "_________________________________________________________________\n",
            " Layer (type)                Output Shape              Param #   \n",
            "=================================================================\n",
            " dense (Dense)               (None, 512)               401920    \n",
            "                                                                 \n",
            " dense_1 (Dense)             (None, 10)                5130      \n",
            "                                                                 \n",
            "=================================================================\n",
            "Total params: 407,050\n",
            "Trainable params: 407,050\n",
            "Non-trainable params: 0\n",
            "_________________________________________________________________\n"
          ]
        }
      ]
    },
    {
      "cell_type": "code",
      "source": [
        "train_images = train_images.reshape((60000, 28*28))\n",
        "train_images=train_images.astype('float32')/255\n",
        "test_images=test_images.reshape((10000,28*28))\n",
        "test_images=test_images.astype('float32')/255\n",
        "train_images.shape"
      ],
      "metadata": {
        "colab": {
          "base_uri": "https://localhost:8080/"
        },
        "id": "acI2IPRw9JIg",
        "outputId": "2e77343c-0313-4e47-c81a-aa9dd05c201a"
      },
      "execution_count": 10,
      "outputs": [
        {
          "output_type": "execute_result",
          "data": {
            "text/plain": [
              "(60000, 784)"
            ]
          },
          "metadata": {},
          "execution_count": 10
        }
      ]
    },
    {
      "cell_type": "code",
      "source": [
        "from keras.utils import to_categorical\n",
        "train_labels=to_categorical(train_labels)\n",
        "test_labels = to_categorical(test_labels)\n",
        "train_labels.shape"
      ],
      "metadata": {
        "colab": {
          "base_uri": "https://localhost:8080/"
        },
        "id": "yHk2M3EE_Qba",
        "outputId": "f820ae01-45d2-464a-de86-f16e5e91a8e2"
      },
      "execution_count": 11,
      "outputs": [
        {
          "output_type": "execute_result",
          "data": {
            "text/plain": [
              "(60000, 10)"
            ]
          },
          "metadata": {},
          "execution_count": 11
        }
      ]
    },
    {
      "cell_type": "code",
      "source": [
        "model.compile(optimizer='rmsprop', loss='categorical_crossentropy', metrics= ['accuracy'])\n",
        "model.fit(train_images, train_labels, epochs = 100, batch_size= 128)\n"
      ],
      "metadata": {
        "colab": {
          "base_uri": "https://localhost:8080/"
        },
        "id": "6wt6B9pCAWYC",
        "outputId": "a5e42a34-5600-4531-ff12-04cc4c5a1d0f"
      },
      "execution_count": 13,
      "outputs": [
        {
          "output_type": "stream",
          "name": "stdout",
          "text": [
            "Epoch 1/100\n",
            "469/469 [==============================] - 5s 10ms/step - loss: 0.2560 - accuracy: 0.9267\n",
            "Epoch 2/100\n",
            "469/469 [==============================] - 4s 8ms/step - loss: 0.1037 - accuracy: 0.9692\n",
            "Epoch 3/100\n",
            "469/469 [==============================] - 3s 7ms/step - loss: 0.0685 - accuracy: 0.9790\n",
            "Epoch 4/100\n",
            "469/469 [==============================] - 4s 7ms/step - loss: 0.0502 - accuracy: 0.9849\n",
            "Epoch 5/100\n",
            "469/469 [==============================] - 3s 7ms/step - loss: 0.0385 - accuracy: 0.9882\n",
            "Epoch 6/100\n",
            "469/469 [==============================] - 3s 7ms/step - loss: 0.0292 - accuracy: 0.9915\n",
            "Epoch 7/100\n",
            "469/469 [==============================] - 4s 8ms/step - loss: 0.0220 - accuracy: 0.9936\n",
            "Epoch 8/100\n",
            "469/469 [==============================] - 4s 8ms/step - loss: 0.0171 - accuracy: 0.9948\n",
            "Epoch 9/100\n",
            "469/469 [==============================] - 3s 7ms/step - loss: 0.0133 - accuracy: 0.9966\n",
            "Epoch 10/100\n",
            "469/469 [==============================] - 4s 7ms/step - loss: 0.0100 - accuracy: 0.9972\n",
            "Epoch 11/100\n",
            "469/469 [==============================] - 3s 7ms/step - loss: 0.0081 - accuracy: 0.9978\n",
            "Epoch 12/100\n",
            "469/469 [==============================] - 4s 7ms/step - loss: 0.0063 - accuracy: 0.9983\n",
            "Epoch 13/100\n",
            "469/469 [==============================] - 3s 7ms/step - loss: 0.0046 - accuracy: 0.9989\n",
            "Epoch 14/100\n",
            "469/469 [==============================] - 3s 7ms/step - loss: 0.0038 - accuracy: 0.9989\n",
            "Epoch 15/100\n",
            "469/469 [==============================] - 4s 9ms/step - loss: 0.0029 - accuracy: 0.9992\n",
            "Epoch 16/100\n",
            "469/469 [==============================] - 4s 8ms/step - loss: 0.0025 - accuracy: 0.9993\n",
            "Epoch 17/100\n",
            "469/469 [==============================] - 4s 7ms/step - loss: 0.0019 - accuracy: 0.9995\n",
            "Epoch 18/100\n",
            "469/469 [==============================] - 4s 7ms/step - loss: 0.0015 - accuracy: 0.9995\n",
            "Epoch 19/100\n",
            "469/469 [==============================] - 4s 8ms/step - loss: 0.0012 - accuracy: 0.9997\n",
            "Epoch 20/100\n",
            "469/469 [==============================] - 4s 8ms/step - loss: 0.0010 - accuracy: 0.9998\n",
            "Epoch 21/100\n",
            "469/469 [==============================] - 4s 8ms/step - loss: 6.7186e-04 - accuracy: 0.9998\n",
            "Epoch 22/100\n",
            "469/469 [==============================] - 3s 7ms/step - loss: 7.3663e-04 - accuracy: 0.9998\n",
            "Epoch 23/100\n",
            "469/469 [==============================] - 3s 7ms/step - loss: 6.9572e-04 - accuracy: 0.9998\n",
            "Epoch 24/100\n",
            "469/469 [==============================] - 4s 7ms/step - loss: 3.6834e-04 - accuracy: 0.9999\n",
            "Epoch 25/100\n",
            "469/469 [==============================] - 4s 8ms/step - loss: 2.8981e-04 - accuracy: 0.9999\n",
            "Epoch 26/100\n",
            "469/469 [==============================] - 4s 8ms/step - loss: 2.9451e-04 - accuracy: 0.9999\n",
            "Epoch 27/100\n",
            "469/469 [==============================] - 4s 8ms/step - loss: 1.6583e-04 - accuracy: 1.0000\n",
            "Epoch 28/100\n",
            "469/469 [==============================] - 4s 8ms/step - loss: 2.0725e-04 - accuracy: 0.9999\n",
            "Epoch 29/100\n",
            "469/469 [==============================] - 4s 8ms/step - loss: 1.4873e-04 - accuracy: 0.9999\n",
            "Epoch 30/100\n",
            "469/469 [==============================] - 4s 8ms/step - loss: 1.8146e-04 - accuracy: 0.9999\n",
            "Epoch 31/100\n",
            "469/469 [==============================] - 4s 8ms/step - loss: 1.7888e-04 - accuracy: 0.9999\n",
            "Epoch 32/100\n",
            "469/469 [==============================] - 4s 8ms/step - loss: 1.1180e-04 - accuracy: 0.9999\n",
            "Epoch 33/100\n",
            "469/469 [==============================] - 3s 7ms/step - loss: 3.0165e-05 - accuracy: 1.0000\n",
            "Epoch 34/100\n",
            "469/469 [==============================] - 4s 7ms/step - loss: 4.5208e-05 - accuracy: 1.0000\n",
            "Epoch 35/100\n",
            "469/469 [==============================] - 3s 7ms/step - loss: 2.9298e-05 - accuracy: 1.0000\n",
            "Epoch 36/100\n",
            "469/469 [==============================] - 3s 7ms/step - loss: 1.0573e-04 - accuracy: 0.9999\n",
            "Epoch 37/100\n",
            "469/469 [==============================] - 4s 8ms/step - loss: 1.1627e-05 - accuracy: 1.0000\n",
            "Epoch 38/100\n",
            "469/469 [==============================] - 4s 8ms/step - loss: 2.9945e-05 - accuracy: 1.0000\n",
            "Epoch 39/100\n",
            "469/469 [==============================] - 4s 8ms/step - loss: 5.8648e-06 - accuracy: 1.0000\n",
            "Epoch 40/100\n",
            "469/469 [==============================] - 4s 8ms/step - loss: 1.0524e-05 - accuracy: 1.0000\n",
            "Epoch 41/100\n",
            "469/469 [==============================] - 4s 8ms/step - loss: 6.4227e-06 - accuracy: 1.0000\n",
            "Epoch 42/100\n",
            "469/469 [==============================] - 4s 8ms/step - loss: 1.3003e-05 - accuracy: 1.0000\n",
            "Epoch 43/100\n",
            "469/469 [==============================] - 3s 7ms/step - loss: 9.9105e-07 - accuracy: 1.0000\n",
            "Epoch 44/100\n",
            "469/469 [==============================] - 4s 8ms/step - loss: 3.0005e-07 - accuracy: 1.0000\n",
            "Epoch 45/100\n",
            "469/469 [==============================] - 4s 8ms/step - loss: 4.1917e-08 - accuracy: 1.0000\n",
            "Epoch 46/100\n",
            "469/469 [==============================] - 4s 8ms/step - loss: 2.1915e-08 - accuracy: 1.0000\n",
            "Epoch 47/100\n",
            "469/469 [==============================] - 3s 7ms/step - loss: 1.8448e-08 - accuracy: 1.0000\n",
            "Epoch 48/100\n",
            "469/469 [==============================] - 4s 7ms/step - loss: 1.5996e-08 - accuracy: 1.0000\n",
            "Epoch 49/100\n",
            "469/469 [==============================] - 4s 7ms/step - loss: 1.4834e-08 - accuracy: 1.0000\n",
            "Epoch 50/100\n",
            "469/469 [==============================] - 4s 9ms/step - loss: 1.3636e-08 - accuracy: 1.0000\n",
            "Epoch 51/100\n",
            "469/469 [==============================] - 4s 8ms/step - loss: 1.2811e-08 - accuracy: 1.0000\n",
            "Epoch 52/100\n",
            "469/469 [==============================] - 4s 8ms/step - loss: 1.2046e-08 - accuracy: 1.0000\n",
            "Epoch 53/100\n",
            "469/469 [==============================] - 4s 8ms/step - loss: 1.1478e-08 - accuracy: 1.0000\n",
            "Epoch 54/100\n",
            "469/469 [==============================] - 4s 7ms/step - loss: 1.0916e-08 - accuracy: 1.0000\n",
            "Epoch 55/100\n",
            "469/469 [==============================] - 3s 7ms/step - loss: 1.0322e-08 - accuracy: 1.0000\n",
            "Epoch 56/100\n",
            "469/469 [==============================] - 4s 8ms/step - loss: 1.0077e-08 - accuracy: 1.0000\n",
            "Epoch 57/100\n",
            "469/469 [==============================] - 4s 7ms/step - loss: 9.6182e-09 - accuracy: 1.0000\n",
            "Epoch 58/100\n",
            "469/469 [==============================] - 4s 8ms/step - loss: 9.2526e-09 - accuracy: 1.0000\n",
            "Epoch 59/100\n",
            "469/469 [==============================] - 3s 7ms/step - loss: 8.9745e-09 - accuracy: 1.0000\n",
            "Epoch 60/100\n",
            "469/469 [==============================] - 4s 7ms/step - loss: 8.6506e-09 - accuracy: 1.0000\n",
            "Epoch 61/100\n",
            "469/469 [==============================] - 4s 8ms/step - loss: 8.4162e-09 - accuracy: 1.0000\n",
            "Epoch 62/100\n",
            "469/469 [==============================] - 3s 7ms/step - loss: 8.1460e-09 - accuracy: 1.0000\n",
            "Epoch 63/100\n",
            "469/469 [==============================] - 4s 8ms/step - loss: 7.8519e-09 - accuracy: 1.0000\n",
            "Epoch 64/100\n",
            "469/469 [==============================] - 3s 7ms/step - loss: 7.6989e-09 - accuracy: 1.0000\n",
            "Epoch 65/100\n",
            "469/469 [==============================] - 4s 7ms/step - loss: 7.4645e-09 - accuracy: 1.0000\n",
            "Epoch 66/100\n",
            "469/469 [==============================] - 4s 8ms/step - loss: 7.3036e-09 - accuracy: 1.0000\n",
            "Epoch 67/100\n",
            "469/469 [==============================] - 4s 7ms/step - loss: 7.1804e-09 - accuracy: 1.0000\n",
            "Epoch 68/100\n",
            "469/469 [==============================] - 3s 7ms/step - loss: 6.9976e-09 - accuracy: 1.0000\n",
            "Epoch 69/100\n",
            "469/469 [==============================] - 4s 8ms/step - loss: 6.8684e-09 - accuracy: 1.0000\n",
            "Epoch 70/100\n",
            "469/469 [==============================] - 4s 8ms/step - loss: 6.7115e-09 - accuracy: 1.0000\n",
            "Epoch 71/100\n",
            "469/469 [==============================] - 4s 8ms/step - loss: 6.5525e-09 - accuracy: 1.0000\n",
            "Epoch 72/100\n",
            "469/469 [==============================] - 4s 8ms/step - loss: 6.4631e-09 - accuracy: 1.0000\n",
            "Epoch 73/100\n",
            "469/469 [==============================] - 3s 7ms/step - loss: 6.3002e-09 - accuracy: 1.0000\n",
            "Epoch 74/100\n",
            "469/469 [==============================] - 4s 8ms/step - loss: 6.2168e-09 - accuracy: 1.0000\n",
            "Epoch 75/100\n",
            "469/469 [==============================] - 4s 8ms/step - loss: 6.1552e-09 - accuracy: 1.0000\n",
            "Epoch 76/100\n",
            "469/469 [==============================] - 4s 8ms/step - loss: 6.0002e-09 - accuracy: 1.0000\n",
            "Epoch 77/100\n",
            "469/469 [==============================] - 3s 7ms/step - loss: 5.8870e-09 - accuracy: 1.0000\n",
            "Epoch 78/100\n",
            "469/469 [==============================] - 4s 8ms/step - loss: 5.8134e-09 - accuracy: 1.0000\n",
            "Epoch 79/100\n",
            "469/469 [==============================] - 4s 7ms/step - loss: 5.7360e-09 - accuracy: 1.0000\n",
            "Epoch 80/100\n",
            "469/469 [==============================] - 3s 7ms/step - loss: 5.6843e-09 - accuracy: 1.0000\n",
            "Epoch 81/100\n",
            "469/469 [==============================] - 4s 8ms/step - loss: 5.5969e-09 - accuracy: 1.0000\n",
            "Epoch 82/100\n",
            "469/469 [==============================] - 4s 7ms/step - loss: 5.5810e-09 - accuracy: 1.0000\n",
            "Epoch 83/100\n",
            "469/469 [==============================] - 4s 7ms/step - loss: 5.5154e-09 - accuracy: 1.0000\n",
            "Epoch 84/100\n",
            "469/469 [==============================] - 4s 8ms/step - loss: 5.4399e-09 - accuracy: 1.0000\n",
            "Epoch 85/100\n",
            "469/469 [==============================] - 4s 8ms/step - loss: 5.3902e-09 - accuracy: 1.0000\n",
            "Epoch 86/100\n",
            "469/469 [==============================] - 4s 7ms/step - loss: 5.2830e-09 - accuracy: 1.0000\n",
            "Epoch 87/100\n",
            "469/469 [==============================] - 4s 8ms/step - loss: 5.3306e-09 - accuracy: 1.0000\n",
            "Epoch 88/100\n",
            "469/469 [==============================] - 4s 8ms/step - loss: 5.2015e-09 - accuracy: 1.0000\n",
            "Epoch 89/100\n",
            "469/469 [==============================] - 4s 8ms/step - loss: 5.1796e-09 - accuracy: 1.0000\n",
            "Epoch 90/100\n",
            "469/469 [==============================] - 4s 7ms/step - loss: 5.0982e-09 - accuracy: 1.0000\n",
            "Epoch 91/100\n",
            "469/469 [==============================] - 4s 8ms/step - loss: 5.1121e-09 - accuracy: 1.0000\n",
            "Epoch 92/100\n",
            "469/469 [==============================] - 4s 8ms/step - loss: 5.0843e-09 - accuracy: 1.0000\n",
            "Epoch 93/100\n",
            "469/469 [==============================] - 4s 8ms/step - loss: 4.9969e-09 - accuracy: 1.0000\n",
            "Epoch 94/100\n",
            "469/469 [==============================] - 4s 8ms/step - loss: 4.9790e-09 - accuracy: 1.0000\n",
            "Epoch 95/100\n",
            "469/469 [==============================] - 4s 8ms/step - loss: 4.9074e-09 - accuracy: 1.0000\n",
            "Epoch 96/100\n",
            "469/469 [==============================] - 5s 11ms/step - loss: 4.9134e-09 - accuracy: 1.0000\n",
            "Epoch 97/100\n",
            "469/469 [==============================] - 4s 9ms/step - loss: 4.8697e-09 - accuracy: 1.0000\n",
            "Epoch 98/100\n",
            "469/469 [==============================] - 4s 8ms/step - loss: 4.8419e-09 - accuracy: 1.0000\n",
            "Epoch 99/100\n",
            "469/469 [==============================] - 4s 8ms/step - loss: 4.7882e-09 - accuracy: 1.0000\n",
            "Epoch 100/100\n",
            "469/469 [==============================] - 4s 7ms/step - loss: 4.7425e-09 - accuracy: 1.0000\n"
          ]
        },
        {
          "output_type": "execute_result",
          "data": {
            "text/plain": [
              "<keras.callbacks.History at 0x7f96f34c4e50>"
            ]
          },
          "metadata": {},
          "execution_count": 13
        }
      ]
    },
    {
      "cell_type": "code",
      "source": [
        "test_loss , test_acc = model.evaluate(test_images, test_labels)\n",
        "print('Test accuracy:', test_acc)"
      ],
      "metadata": {
        "colab": {
          "base_uri": "https://localhost:8080/"
        },
        "id": "Iz7ED6voC7_U",
        "outputId": "80a364f8-a896-4600-ec92-77a859f9e95c"
      },
      "execution_count": 14,
      "outputs": [
        {
          "output_type": "stream",
          "name": "stdout",
          "text": [
            "313/313 [==============================] - 1s 2ms/step - loss: 0.1594 - accuracy: 0.9834\n",
            "Test accuracy: 0.9833999872207642\n"
          ]
        }
      ]
    },
    {
      "cell_type": "code",
      "source": [
        "from keras.datasets import fashion_mnist\n",
        "(X_train, y_train), (X_test, y_test) = fashion_mnist.load_data()\n"
      ],
      "metadata": {
        "id": "tcPCgsZwGlro",
        "colab": {
          "base_uri": "https://localhost:8080/"
        },
        "outputId": "2bdc4bcd-786a-4994-a9d8-a6964e717b51"
      },
      "execution_count": 15,
      "outputs": [
        {
          "output_type": "stream",
          "name": "stdout",
          "text": [
            "Downloading data from https://storage.googleapis.com/tensorflow/tf-keras-datasets/train-labels-idx1-ubyte.gz\n",
            "29515/29515 [==============================] - 0s 0us/step\n",
            "Downloading data from https://storage.googleapis.com/tensorflow/tf-keras-datasets/train-images-idx3-ubyte.gz\n",
            "26421880/26421880 [==============================] - 0s 0us/step\n",
            "Downloading data from https://storage.googleapis.com/tensorflow/tf-keras-datasets/t10k-labels-idx1-ubyte.gz\n",
            "5148/5148 [==============================] - 0s 0us/step\n",
            "Downloading data from https://storage.googleapis.com/tensorflow/tf-keras-datasets/t10k-images-idx3-ubyte.gz\n",
            "4422102/4422102 [==============================] - 0s 0us/step\n"
          ]
        }
      ]
    },
    {
      "cell_type": "code",
      "source": [
        "\n",
        "X_train.shape"
      ],
      "metadata": {
        "colab": {
          "base_uri": "https://localhost:8080/"
        },
        "id": "DtXagn18HT6z",
        "outputId": "6eba7eeb-d0ea-4e5a-dec7-52e0d0a51e14"
      },
      "execution_count": 16,
      "outputs": [
        {
          "output_type": "execute_result",
          "data": {
            "text/plain": [
              "(60000, 28, 28)"
            ]
          },
          "metadata": {},
          "execution_count": 16
        }
      ]
    },
    {
      "cell_type": "code",
      "source": [
        "y_train.shape\n"
      ],
      "metadata": {
        "colab": {
          "base_uri": "https://localhost:8080/"
        },
        "id": "dywl3hskHZkE",
        "outputId": "0900d60b-ddff-4c51-9901-841e2ad08322"
      },
      "execution_count": 17,
      "outputs": [
        {
          "output_type": "execute_result",
          "data": {
            "text/plain": [
              "(60000,)"
            ]
          },
          "metadata": {},
          "execution_count": 17
        }
      ]
    },
    {
      "cell_type": "code",
      "source": [
        "X_test.shape"
      ],
      "metadata": {
        "colab": {
          "base_uri": "https://localhost:8080/"
        },
        "id": "Vy21TCH1Hgq8",
        "outputId": "114e5b18-50f5-48f6-a802-c07a31fa0d41"
      },
      "execution_count": 18,
      "outputs": [
        {
          "output_type": "execute_result",
          "data": {
            "text/plain": [
              "(10000, 28, 28)"
            ]
          },
          "metadata": {},
          "execution_count": 18
        }
      ]
    },
    {
      "cell_type": "code",
      "source": [
        "y_test.shape"
      ],
      "metadata": {
        "colab": {
          "base_uri": "https://localhost:8080/"
        },
        "id": "4AX3_uDVHjMf",
        "outputId": "fde29e27-5c0f-4111-859d-926d4caa040c"
      },
      "execution_count": 19,
      "outputs": [
        {
          "output_type": "execute_result",
          "data": {
            "text/plain": [
              "(10000,)"
            ]
          },
          "metadata": {},
          "execution_count": 19
        }
      ]
    },
    {
      "cell_type": "code",
      "source": [
        "import matplotlib.pyplot as plt\n",
        "plt.imshow(X_train[10])\n",
        "plt.show()\n"
      ],
      "metadata": {
        "colab": {
          "base_uri": "https://localhost:8080/",
          "height": 265
        },
        "id": "vWV5CH9TH_57",
        "outputId": "9cdbcb7b-54fa-4143-8a70-cef08b62e0a7"
      },
      "execution_count": 20,
      "outputs": [
        {
          "output_type": "display_data",
          "data": {
            "text/plain": [
              "<Figure size 432x288 with 1 Axes>"
            ],
            "image/png": "[encoded data removed]"
          },
          "metadata": {
            "needs_background": "light"
          }
        }
      ]
    },
    {
      "cell_type": "code",
      "source": [
        "print(train_labels[10])"
      ],
      "metadata": {
        "colab": {
          "base_uri": "https://localhost:8080/"
        },
        "id": "DoAfGKndIirU",
        "outputId": "3993bf4e-f788-4458-8998-888deebd4c7a"
      },
      "execution_count": 21,
      "outputs": [
        {
          "output_type": "stream",
          "name": "stdout",
          "text": [
            "[0. 0. 0. 1. 0. 0. 0. 0. 0. 0.]\n"
          ]
        }
      ]
    },
    {
      "cell_type": "code",
      "source": [
        "class_names = ['T-shirt/Top', 'Trousers', 'Pullover', 'Dress', 'Coat', 'Sandal', 'Shirt','Sneaker', 'Bag', 'Anble boat']"
      ],
      "metadata": {
        "id": "zDvD1KpSInUb"
      },
      "execution_count": 22,
      "outputs": []
    },
    {
      "cell_type": "code",
      "source": [
        "import matplotlib.pyplot as plt\n",
        "plt.imshow(X_train[5000])\n",
        "plt.show()\n",
        "print(class_names[y_train[5000]])"
      ],
      "metadata": {
        "colab": {
          "base_uri": "https://localhost:8080/",
          "height": 282
        },
        "id": "2IBNXAu0Jmcy",
        "outputId": "151af433-5cee-4d4b-da36-fc7effc23a48"
      },
      "execution_count": 23,
      "outputs": [
        {
          "output_type": "display_data",
          "data": {
            "text/plain": [
              "<Figure size 432x288 with 1 Axes>"
            ],
            "image/png": "[encoded data removed]"
          },
          "metadata": {
            "needs_background": "light"
          }
        },
        {
          "output_type": "stream",
          "name": "stdout",
          "text": [
            "Coat\n"
          ]
        }
      ]
    },
    {
      "cell_type": "code",
      "source": [
        "import matplotlib.pyplot as plt\n",
        "plt.imshow(X_train[2011])\n",
        "plt.show()\n",
        "print(class_names[y_train[2011]])"
      ],
      "metadata": {
        "colab": {
          "base_uri": "https://localhost:8080/",
          "height": 282
        },
        "id": "XzlNKuCEKvXw",
        "outputId": "6893c0dc-44f6-4738-ff95-78e074ac5660"
      },
      "execution_count": 24,
      "outputs": [
        {
          "output_type": "display_data",
          "data": {
            "text/plain": [
              "<Figure size 432x288 with 1 Axes>"
            ],
            "image/png": "[encoded data removed]"
          },
          "metadata": {
            "needs_background": "light"
          }
        },
        {
          "output_type": "stream",
          "name": "stdout",
          "text": [
            "Dress\n"
          ]
        }
      ]
    },
    {
      "cell_type": "code",
      "source": [
        "from keras import models\n",
        "from keras import layers\n",
        "model = models.Sequential()\n",
        "model.add(layers.Dense(512, activation = 'relu',input_shape = (28*28,)))\n",
        "model.add(layers.Dense(10, activation='softmax'))\n",
        "model.summary()"
      ],
      "metadata": {
        "colab": {
          "base_uri": "https://localhost:8080/"
        },
        "id": "N3FEQgLWLI6B",
        "outputId": "fb9f40e4-e0b6-42b1-f068-1689e25f124d"
      },
      "execution_count": 25,
      "outputs": [
        {
          "output_type": "stream",
          "name": "stdout",
          "text": [
            "Model: \"sequential_1\"\n",
            "_________________________________________________________________\n",
            " Layer (type)                Output Shape              Param #   \n",
            "=================================================================\n",
            " dense_2 (Dense)             (None, 512)               401920    \n",
            "                                                                 \n",
            " dense_3 (Dense)             (None, 10)                5130      \n",
            "                                                                 \n",
            "=================================================================\n",
            "Total params: 407,050\n",
            "Trainable params: 407,050\n",
            "Non-trainable params: 0\n",
            "_________________________________________________________________\n"
          ]
        }
      ]
    },
    {
      "cell_type": "code",
      "source": [
        "X_train = X_train.reshape((60000, 28*28))\n",
        "X_train=X_train.astype('float32')/255\n",
        "X_test=X_test.reshape((10000,28*28))\n",
        "X_test=X_test.astype('float32')/255\n",
        "X_train.shape"
      ],
      "metadata": {
        "colab": {
          "base_uri": "https://localhost:8080/"
        },
        "id": "7fqgGplGLrle",
        "outputId": "91c4f745-af50-4fa4-ef82-cecc196f062c"
      },
      "execution_count": 26,
      "outputs": [
        {
          "output_type": "execute_result",
          "data": {
            "text/plain": [
              "(60000, 784)"
            ]
          },
          "metadata": {},
          "execution_count": 26
        }
      ]
    },
    {
      "cell_type": "code",
      "source": [
        "from keras.utils import to_categorical\n",
        "y_train=to_categorical(y_train)\n",
        "y_test = to_categorical(y_test)\n",
        "y_train.shape"
      ],
      "metadata": {
        "colab": {
          "base_uri": "https://localhost:8080/"
        },
        "id": "iV2fVJtyMbbC",
        "outputId": "f240d1f5-c356-4949-ec69-817d8c844b0a"
      },
      "execution_count": 27,
      "outputs": [
        {
          "output_type": "execute_result",
          "data": {
            "text/plain": [
              "(60000, 10)"
            ]
          },
          "metadata": {},
          "execution_count": 27
        }
      ]
    },
    {
      "cell_type": "code",
      "source": [
        "model.compile(optimizer='rmsprop', loss='categorical_crossentropy', metrics= ['accuracy'])\n",
        "model.fit(X_train, y_train, epochs = 100, batch_size= 128)"
      ],
      "metadata": {
        "colab": {
          "base_uri": "https://localhost:8080/"
        },
        "id": "zixYoanqM1Hb",
        "outputId": "8d3c3904-9426-4849-e769-f56c2e0aaaad"
      },
      "execution_count": 28,
      "outputs": [
        {
          "output_type": "stream",
          "name": "stdout",
          "text": [
            "Epoch 1/100\n",
            "469/469 [==============================] - 4s 8ms/step - loss: 0.5579 - accuracy: 0.8007\n",
            "Epoch 2/100\n",
            "469/469 [==============================] - 4s 8ms/step - loss: 0.3816 - accuracy: 0.8602\n",
            "Epoch 3/100\n",
            "469/469 [==============================] - 4s 8ms/step - loss: 0.3371 - accuracy: 0.8755\n",
            "Epoch 4/100\n",
            "469/469 [==============================] - 3s 7ms/step - loss: 0.3094 - accuracy: 0.8864\n",
            "Epoch 5/100\n",
            "469/469 [==============================] - 4s 8ms/step - loss: 0.2907 - accuracy: 0.8925\n",
            "Epoch 6/100\n",
            "469/469 [==============================] - 3s 7ms/step - loss: 0.2770 - accuracy: 0.8982\n",
            "Epoch 7/100\n",
            "469/469 [==============================] - 3s 7ms/step - loss: 0.2639 - accuracy: 0.9018\n",
            "Epoch 8/100\n",
            "469/469 [==============================] - 3s 7ms/step - loss: 0.2528 - accuracy: 0.9075\n",
            "Epoch 9/100\n",
            "469/469 [==============================] - 3s 7ms/step - loss: 0.2425 - accuracy: 0.9102\n",
            "Epoch 10/100\n",
            "469/469 [==============================] - 3s 7ms/step - loss: 0.2329 - accuracy: 0.9150\n",
            "Epoch 11/100\n",
            "469/469 [==============================] - 3s 7ms/step - loss: 0.2236 - accuracy: 0.9174\n",
            "Epoch 12/100\n",
            "469/469 [==============================] - 3s 7ms/step - loss: 0.2192 - accuracy: 0.9189\n",
            "Epoch 13/100\n",
            "469/469 [==============================] - 4s 8ms/step - loss: 0.2097 - accuracy: 0.9220\n",
            "Epoch 14/100\n",
            "469/469 [==============================] - 4s 7ms/step - loss: 0.2026 - accuracy: 0.9252\n",
            "Epoch 15/100\n",
            "469/469 [==============================] - 4s 8ms/step - loss: 0.1994 - accuracy: 0.9261\n",
            "Epoch 16/100\n",
            "469/469 [==============================] - 4s 7ms/step - loss: 0.1924 - accuracy: 0.9291\n",
            "Epoch 17/100\n",
            "469/469 [==============================] - 4s 8ms/step - loss: 0.1860 - accuracy: 0.9309\n",
            "Epoch 18/100\n",
            "469/469 [==============================] - 3s 7ms/step - loss: 0.1791 - accuracy: 0.9334\n",
            "Epoch 19/100\n",
            "469/469 [==============================] - 4s 7ms/step - loss: 0.1760 - accuracy: 0.9354\n",
            "Epoch 20/100\n",
            "469/469 [==============================] - 3s 7ms/step - loss: 0.1707 - accuracy: 0.9382\n",
            "Epoch 21/100\n",
            "469/469 [==============================] - 4s 7ms/step - loss: 0.1678 - accuracy: 0.9379\n",
            "Epoch 22/100\n",
            "469/469 [==============================] - 4s 7ms/step - loss: 0.1608 - accuracy: 0.9419\n",
            "Epoch 23/100\n",
            "469/469 [==============================] - 3s 7ms/step - loss: 0.1571 - accuracy: 0.9416\n",
            "Epoch 24/100\n",
            "469/469 [==============================] - 4s 7ms/step - loss: 0.1545 - accuracy: 0.9430\n",
            "Epoch 25/100\n",
            "469/469 [==============================] - 3s 7ms/step - loss: 0.1505 - accuracy: 0.9444\n",
            "Epoch 26/100\n",
            "469/469 [==============================] - 3s 7ms/step - loss: 0.1459 - accuracy: 0.9474\n",
            "Epoch 27/100\n",
            "469/469 [==============================] - 4s 7ms/step - loss: 0.1432 - accuracy: 0.9487\n",
            "Epoch 28/100\n",
            "469/469 [==============================] - 4s 7ms/step - loss: 0.1407 - accuracy: 0.9491\n",
            "Epoch 29/100\n",
            "469/469 [==============================] - 3s 7ms/step - loss: 0.1390 - accuracy: 0.9488\n",
            "Epoch 30/100\n",
            "469/469 [==============================] - 4s 7ms/step - loss: 0.1349 - accuracy: 0.9510\n",
            "Epoch 31/100\n",
            "469/469 [==============================] - 3s 7ms/step - loss: 0.1309 - accuracy: 0.9534\n",
            "Epoch 32/100\n",
            "469/469 [==============================] - 4s 8ms/step - loss: 0.1315 - accuracy: 0.9520\n",
            "Epoch 33/100\n",
            "469/469 [==============================] - 4s 8ms/step - loss: 0.1274 - accuracy: 0.9549\n",
            "Epoch 34/100\n",
            "469/469 [==============================] - 4s 8ms/step - loss: 0.1241 - accuracy: 0.9559\n",
            "Epoch 35/100\n",
            "469/469 [==============================] - 4s 8ms/step - loss: 0.1212 - accuracy: 0.9557\n",
            "Epoch 36/100\n",
            "469/469 [==============================] - 3s 7ms/step - loss: 0.1205 - accuracy: 0.9573\n",
            "Epoch 37/100\n",
            "469/469 [==============================] - 4s 8ms/step - loss: 0.1178 - accuracy: 0.9573\n",
            "Epoch 38/100\n",
            "469/469 [==============================] - 4s 7ms/step - loss: 0.1137 - accuracy: 0.9594\n",
            "Epoch 39/100\n",
            "469/469 [==============================] - 3s 7ms/step - loss: 0.1143 - accuracy: 0.9594\n",
            "Epoch 40/100\n",
            "469/469 [==============================] - 3s 7ms/step - loss: 0.1124 - accuracy: 0.9597\n",
            "Epoch 41/100\n",
            "469/469 [==============================] - 4s 7ms/step - loss: 0.1085 - accuracy: 0.9618\n",
            "Epoch 42/100\n",
            "469/469 [==============================] - 3s 7ms/step - loss: 0.1062 - accuracy: 0.9625\n",
            "Epoch 43/100\n",
            "469/469 [==============================] - 4s 8ms/step - loss: 0.1064 - accuracy: 0.9625\n",
            "Epoch 44/100\n",
            "469/469 [==============================] - 4s 8ms/step - loss: 0.1041 - accuracy: 0.9631\n",
            "Epoch 45/100\n",
            "469/469 [==============================] - 4s 8ms/step - loss: 0.0999 - accuracy: 0.9649\n",
            "Epoch 46/100\n",
            "469/469 [==============================] - 3s 7ms/step - loss: 0.0992 - accuracy: 0.9650\n",
            "Epoch 47/100\n",
            "469/469 [==============================] - 3s 7ms/step - loss: 0.1002 - accuracy: 0.9656\n",
            "Epoch 48/100\n",
            "469/469 [==============================] - 4s 8ms/step - loss: 0.0990 - accuracy: 0.9661\n",
            "Epoch 49/100\n",
            "469/469 [==============================] - 4s 8ms/step - loss: 0.0966 - accuracy: 0.9666\n",
            "Epoch 50/100\n",
            "469/469 [==============================] - 3s 7ms/step - loss: 0.0944 - accuracy: 0.9666\n",
            "Epoch 51/100\n",
            "469/469 [==============================] - 4s 8ms/step - loss: 0.0951 - accuracy: 0.9667\n",
            "Epoch 52/100\n",
            "469/469 [==============================] - 4s 8ms/step - loss: 0.0917 - accuracy: 0.9682\n",
            "Epoch 53/100\n",
            "469/469 [==============================] - 4s 8ms/step - loss: 0.0917 - accuracy: 0.9681\n",
            "Epoch 54/100\n",
            "469/469 [==============================] - 4s 9ms/step - loss: 0.0883 - accuracy: 0.9688\n",
            "Epoch 55/100\n",
            "469/469 [==============================] - 4s 7ms/step - loss: 0.0874 - accuracy: 0.9692\n",
            "Epoch 56/100\n",
            "469/469 [==============================] - 4s 8ms/step - loss: 0.0876 - accuracy: 0.9698\n",
            "Epoch 57/100\n",
            "469/469 [==============================] - 4s 7ms/step - loss: 0.0841 - accuracy: 0.9714\n",
            "Epoch 58/100\n",
            "469/469 [==============================] - 4s 8ms/step - loss: 0.0888 - accuracy: 0.9704\n",
            "Epoch 59/100\n",
            "469/469 [==============================] - 3s 7ms/step - loss: 0.0850 - accuracy: 0.9719\n",
            "Epoch 60/100\n",
            "469/469 [==============================] - 4s 8ms/step - loss: 0.0809 - accuracy: 0.9722\n",
            "Epoch 61/100\n",
            "469/469 [==============================] - 4s 8ms/step - loss: 0.0790 - accuracy: 0.9729\n",
            "Epoch 62/100\n",
            "469/469 [==============================] - 3s 7ms/step - loss: 0.0814 - accuracy: 0.9723\n",
            "Epoch 63/100\n",
            "469/469 [==============================] - 4s 8ms/step - loss: 0.0815 - accuracy: 0.9728\n",
            "Epoch 64/100\n",
            "469/469 [==============================] - 4s 7ms/step - loss: 0.0778 - accuracy: 0.9742\n",
            "Epoch 65/100\n",
            "469/469 [==============================] - 4s 8ms/step - loss: 0.0761 - accuracy: 0.9741\n",
            "Epoch 66/100\n",
            "469/469 [==============================] - 3s 7ms/step - loss: 0.0770 - accuracy: 0.9742\n",
            "Epoch 67/100\n",
            "469/469 [==============================] - 4s 8ms/step - loss: 0.0764 - accuracy: 0.9742\n",
            "Epoch 68/100\n",
            "469/469 [==============================] - 4s 8ms/step - loss: 0.0784 - accuracy: 0.9747\n",
            "Epoch 69/100\n",
            "469/469 [==============================] - 4s 8ms/step - loss: 0.0743 - accuracy: 0.9755\n",
            "Epoch 70/100\n",
            "469/469 [==============================] - 4s 8ms/step - loss: 0.0697 - accuracy: 0.9768\n",
            "Epoch 71/100\n",
            "469/469 [==============================] - 4s 8ms/step - loss: 0.0701 - accuracy: 0.9771\n",
            "Epoch 72/100\n",
            "469/469 [==============================] - 4s 8ms/step - loss: 0.0727 - accuracy: 0.9762\n",
            "Epoch 73/100\n",
            "469/469 [==============================] - 4s 8ms/step - loss: 0.0701 - accuracy: 0.9775\n",
            "Epoch 74/100\n",
            "469/469 [==============================] - 4s 8ms/step - loss: 0.0707 - accuracy: 0.9768\n",
            "Epoch 75/100\n",
            "469/469 [==============================] - 4s 7ms/step - loss: 0.0695 - accuracy: 0.9778\n",
            "Epoch 76/100\n",
            "469/469 [==============================] - 4s 8ms/step - loss: 0.0670 - accuracy: 0.9786\n",
            "Epoch 77/100\n",
            "469/469 [==============================] - 4s 8ms/step - loss: 0.0675 - accuracy: 0.9786\n",
            "Epoch 78/100\n",
            "469/469 [==============================] - 4s 8ms/step - loss: 0.0639 - accuracy: 0.9792\n",
            "Epoch 79/100\n",
            "469/469 [==============================] - 4s 8ms/step - loss: 0.0662 - accuracy: 0.9792\n",
            "Epoch 80/100\n",
            "469/469 [==============================] - 4s 8ms/step - loss: 0.0676 - accuracy: 0.9788\n",
            "Epoch 81/100\n",
            "469/469 [==============================] - 4s 8ms/step - loss: 0.0678 - accuracy: 0.9785\n",
            "Epoch 82/100\n",
            "469/469 [==============================] - 4s 8ms/step - loss: 0.0624 - accuracy: 0.9794\n",
            "Epoch 83/100\n",
            "469/469 [==============================] - 4s 8ms/step - loss: 0.0648 - accuracy: 0.9796\n",
            "Epoch 84/100\n",
            "469/469 [==============================] - 4s 8ms/step - loss: 0.0636 - accuracy: 0.9802\n",
            "Epoch 85/100\n",
            "469/469 [==============================] - 4s 8ms/step - loss: 0.0621 - accuracy: 0.9800\n",
            "Epoch 86/100\n",
            "469/469 [==============================] - 4s 8ms/step - loss: 0.0629 - accuracy: 0.9799\n",
            "Epoch 87/100\n",
            "469/469 [==============================] - 4s 8ms/step - loss: 0.0612 - accuracy: 0.9803\n",
            "Epoch 88/100\n",
            "469/469 [==============================] - 4s 8ms/step - loss: 0.0590 - accuracy: 0.9808\n",
            "Epoch 89/100\n",
            "469/469 [==============================] - 4s 8ms/step - loss: 0.0593 - accuracy: 0.9813\n",
            "Epoch 90/100\n",
            "469/469 [==============================] - 4s 8ms/step - loss: 0.0595 - accuracy: 0.9814\n",
            "Epoch 91/100\n",
            "469/469 [==============================] - 4s 8ms/step - loss: 0.0600 - accuracy: 0.9819\n",
            "Epoch 92/100\n",
            "469/469 [==============================] - 4s 8ms/step - loss: 0.0556 - accuracy: 0.9820\n",
            "Epoch 93/100\n",
            "469/469 [==============================] - 4s 8ms/step - loss: 0.0565 - accuracy: 0.9818\n",
            "Epoch 94/100\n",
            "469/469 [==============================] - 4s 8ms/step - loss: 0.0541 - accuracy: 0.9829\n",
            "Epoch 95/100\n",
            "469/469 [==============================] - 4s 8ms/step - loss: 0.0552 - accuracy: 0.9826\n",
            "Epoch 96/100\n",
            "469/469 [==============================] - 4s 8ms/step - loss: 0.0565 - accuracy: 0.9827\n",
            "Epoch 97/100\n",
            "469/469 [==============================] - 4s 8ms/step - loss: 0.0541 - accuracy: 0.9831\n",
            "Epoch 98/100\n",
            "469/469 [==============================] - 4s 8ms/step - loss: 0.0547 - accuracy: 0.9833\n",
            "Epoch 99/100\n",
            "469/469 [==============================] - 4s 8ms/step - loss: 0.0562 - accuracy: 0.9823\n",
            "Epoch 100/100\n",
            "469/469 [==============================] - 4s 8ms/step - loss: 0.0561 - accuracy: 0.9829\n"
          ]
        },
        {
          "output_type": "execute_result",
          "data": {
            "text/plain": [
              "<keras.callbacks.History at 0x7f96eeffced0>"
            ]
          },
          "metadata": {},
          "execution_count": 28
        }
      ]
    },
    {
      "cell_type": "code",
      "source": [
        "import numpy as np\n",
        "from keras.utils import load_img, img_to_array\n",
        "img = load_img('/content/chanvay.jpg', target_size = (28,28))\n",
        "plt.imshow(img)\n",
        "img = img_to_array(img)\n",
        "img = img[:,:,0]\n",
        "img = img.astype('float32')\n",
        "img = img/255\n",
        "img = img.reshape(1,784)\n",
        "print(np.argmax(model.predict(img), axis =1))\n",
        "print(model.predict(img))"
      ],
      "metadata": {
        "colab": {
          "base_uri": "https://localhost:8080/",
          "height": 352
        },
        "id": "Rz0fAmkNzKje",
        "outputId": "5259c244-abc0-4ff9-c3d5-d6629562099a"
      },
      "execution_count": 35,
      "outputs": [
        {
          "output_type": "stream",
          "name": "stdout",
          "text": [
            "1/1 [==============================] - 0s 15ms/step\n",
            "[8]\n",
            "1/1 [==============================] - 0s 15ms/step\n",
            "[[0.0000000e+00 0.0000000e+00 0.0000000e+00 0.0000000e+00 0.0000000e+00\n",
            "  0.0000000e+00 2.5615615e-29 0.0000000e+00 1.0000000e+00 0.0000000e+00]]\n"
          ]
        },
        {
          "output_type": "display_data",
          "data": {
            "text/plain": [
              "<Figure size 432x288 with 1 Axes>"
            ],
            "image/png": "[encoded data removed]"
          },
          "metadata": {
            "needs_background": "light"
          }
        }
      ]
    }
  ]
}